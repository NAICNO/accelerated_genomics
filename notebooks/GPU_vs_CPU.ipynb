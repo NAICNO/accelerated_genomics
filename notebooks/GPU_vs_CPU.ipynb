{
 "cells": [
  {
   "cell_type": "markdown",
   "id": "7ef5fe2f-b705-42f3-8807-e4ff7abbc9cf",
   "metadata": {},
   "source": [
    "# Analysis of NGS results from GPU and CPU pipelines"
   ]
  },
  {
   "cell_type": "markdown",
   "id": "02ed7e6c-41ac-4abe-9e5b-1f75be0c4e7c",
   "metadata": {},
   "source": [
    "## Comparison of variant call-sets (VCF files)"
   ]
  },
  {
   "cell_type": "markdown",
   "id": "1874cc95-03f8-4246-b52d-64bd6379e2ac",
   "metadata": {},
   "source": [
    "### DATA-PREP: Create datasets showing the intersection, union and complement of VCF files from GPU and CPU pipelines\n",
    "* Results of this step is used in the downstream analysis/visualisation stage"
   ]
  },
  {
   "cell_type": "code",
   "execution_count": 1,
   "id": "8512ebe7-7963-47eb-9102-ee7314243eee",
   "metadata": {},
   "outputs": [],
   "source": [
    "# Intersection of GPU vs CPU variant call-sets of Parabricks test sample (link)\n",
    "PB_PATH=\"../data/internal_testdata/Parabricks_sample\"\n",
    "!bcftools isec -p Sample1 {PB_PATH}/pbsample_pbrun_fq2bam_GPU.bam.vcf.gz {PB_PATH}/pbsample_bwa-mem_CPU.sam.bam_markdup.bam_BQSR.bam.vcf.gz\n",
    "\n",
    "# Intersection of GPU vs CPU variant call-sets of sample - Garvan_NA12878_HG001_HiSeq_Exome (link)\n",
    "NA12878_PATH=\"../data/internal_testdata/Garvan_NA12878_HG001_HiSeq_Exome\"\n",
    "!bcftools isec -p Sample2 {NA12878_PATH}/Garvan_NA12878_HG001_HiSeq_Exome_pbrun_fq2bam_GPU.bam.vcf.gz {NA12878_PATH}/Garvan_NA12878_HG001_HiSeq_Exome_bwa-mem_CPU.sam.bam_markdup.bam_BQSR.bam.vcf.gz"
   ]
  },
  {
   "cell_type": "code",
   "execution_count": 2,
   "id": "4839f16b-a1a9-4f40-b752-ecc01600cf9e",
   "metadata": {},
   "outputs": [
    {
     "name": "stdout",
     "output_type": "stream",
     "text": [
      "This file was produced by vcfisec.\n",
      "The command line was:\tbcftools isec  -p Sample1 ../data/internal_testdata/Parabricks_sample/pbsample_pbrun_fq2bam_GPU.bam.vcf.gz ../data/internal_testdata/Parabricks_sample/pbsample_bwa-mem_CPU.sam.bam_markdup.bam_BQSR.bam.vcf.gz\n",
      "\n",
      "Using the following file names:\n",
      "Sample1/0000.vcf\tfor records private to\t../data/internal_testdata/Parabricks_sample/pbsample_pbrun_fq2bam_GPU.bam.vcf.gz\n",
      "Sample1/0001.vcf\tfor records private to\t../data/internal_testdata/Parabricks_sample/pbsample_bwa-mem_CPU.sam.bam_markdup.bam_BQSR.bam.vcf.gz\n",
      "Sample1/0002.vcf\tfor records from ../data/internal_testdata/Parabricks_sample/pbsample_pbrun_fq2bam_GPU.bam.vcf.gz shared by both\t../data/internal_testdata/Parabricks_sample/pbsample_pbrun_fq2bam_GPU.bam.vcf.gz ../data/internal_testdata/Parabricks_sample/pbsample_bwa-mem_CPU.sam.bam_markdup.bam_BQSR.bam.vcf.gz\n",
      "Sample1/0003.vcf\tfor records from ../data/internal_testdata/Parabricks_sample/pbsample_bwa-mem_CPU.sam.bam_markdup.bam_BQSR.bam.vcf.gz shared by both\t../data/internal_testdata/Parabricks_sample/pbsample_pbrun_fq2bam_GPU.bam.vcf.gz ../data/internal_testdata/Parabricks_sample/pbsample_bwa-mem_CPU.sam.bam_markdup.bam_BQSR.bam.vcf.gz\n",
      "Sample1/0000.vcf:1645\n",
      "Sample1/0001.vcf:614\n",
      "Sample1/0002.vcf:126075\n",
      "Sample1/0003.vcf:126075\n"
     ]
    }
   ],
   "source": [
    "# Parabricks test sample\n",
    "## Count number of variants private (unique) and common to GPU vs CPU variant call-sets\n",
    "!cat Sample1/README.txt\n",
    "!grep -cv \"#\" Sample1/*vcf"
   ]
  },
  {
   "cell_type": "code",
   "execution_count": 3,
   "id": "0ee2e222-1ffb-4b71-a690-d3a05512002e",
   "metadata": {},
   "outputs": [
    {
     "name": "stdout",
     "output_type": "stream",
     "text": [
      "This file was produced by vcfisec.\n",
      "The command line was:\tbcftools isec  -p Sample2 ../data/internal_testdata/Garvan_NA12878_HG001_HiSeq_Exome/Garvan_NA12878_HG001_HiSeq_Exome_pbrun_fq2bam_GPU.bam.vcf.gz ../data/internal_testdata/Garvan_NA12878_HG001_HiSeq_Exome/Garvan_NA12878_HG001_HiSeq_Exome_bwa-mem_CPU.sam.bam_markdup.bam_BQSR.bam.vcf.gz\n",
      "\n",
      "Using the following file names:\n",
      "Sample2/0000.vcf\tfor records private to\t../data/internal_testdata/Garvan_NA12878_HG001_HiSeq_Exome/Garvan_NA12878_HG001_HiSeq_Exome_pbrun_fq2bam_GPU.bam.vcf.gz\n",
      "Sample2/0001.vcf\tfor records private to\t../data/internal_testdata/Garvan_NA12878_HG001_HiSeq_Exome/Garvan_NA12878_HG001_HiSeq_Exome_bwa-mem_CPU.sam.bam_markdup.bam_BQSR.bam.vcf.gz\n",
      "Sample2/0002.vcf\tfor records from ../data/internal_testdata/Garvan_NA12878_HG001_HiSeq_Exome/Garvan_NA12878_HG001_HiSeq_Exome_pbrun_fq2bam_GPU.bam.vcf.gz shared by both\t../data/internal_testdata/Garvan_NA12878_HG001_HiSeq_Exome/Garvan_NA12878_HG001_HiSeq_Exome_pbrun_fq2bam_GPU.bam.vcf.gz ../data/internal_testdata/Garvan_NA12878_HG001_HiSeq_Exome/Garvan_NA12878_HG001_HiSeq_Exome_bwa-mem_CPU.sam.bam_markdup.bam_BQSR.bam.vcf.gz\n",
      "Sample2/0003.vcf\tfor records from ../data/internal_testdata/Garvan_NA12878_HG001_HiSeq_Exome/Garvan_NA12878_HG001_HiSeq_Exome_bwa-mem_CPU.sam.bam_markdup.bam_BQSR.bam.vcf.gz shared by both\t../data/internal_testdata/Garvan_NA12878_HG001_HiSeq_Exome/Garvan_NA12878_HG001_HiSeq_Exome_pbrun_fq2bam_GPU.bam.vcf.gz ../data/internal_testdata/Garvan_NA12878_HG001_HiSeq_Exome/Garvan_NA12878_HG001_HiSeq_Exome_bwa-mem_CPU.sam.bam_markdup.bam_BQSR.bam.vcf.gz\n",
      "Sample2/0000.vcf:3964\n",
      "Sample2/0001.vcf:1010\n",
      "Sample2/0002.vcf:809914\n",
      "Sample2/0003.vcf:809914\n"
     ]
    }
   ],
   "source": [
    "# Garvan_NA12878_HG001_HiSeq_Exome sample\n",
    "## Count number of variants private (unique) and common to GPU vs CPU variant call-sets\n",
    "!cat Sample2/README.txt\n",
    "!grep -cv \"#\" Sample2/*vcf"
   ]
  },
  {
   "cell_type": "markdown",
   "id": "6ca3f2bf-9922-4000-a9bd-16d47185e9c2",
   "metadata": {
    "jp-MarkdownHeadingCollapsed": true
   },
   "source": [
    "#### Summary: Number private (unique) and common variants\n",
    "\n",
    "| Sample     | GPU_ONLY (Private to GPU) | CPU_ONLY (Private to GPU) | GPU_CPU_COMMON (Common to both GPU and CPU) |\n",
    "|------------|---------------------------|---------------------------|---------------------------------------------|\n",
    "| Sample 1   | 1645                      | 614                       | 126075                                      |\n",
    "| Sample 2   | 3964                      | 1010                      | 809914                                      |"
   ]
  },
  {
   "cell_type": "markdown",
   "id": "761309c9-3c8a-47d5-86b6-9d509b0a6b1a",
   "metadata": {},
   "source": [
    "### The number private (unique) and common variants in the two datasets (GPU & CPU call-sets)"
   ]
  },
  {
   "cell_type": "code",
   "execution_count": 4,
   "id": "80c9421d-90c7-4050-8998-c7200163acf9",
   "metadata": {},
   "outputs": [],
   "source": [
    "import matplotlib.pyplot as plt\n",
    "import pandas as pd\n",
    "import numpy as np\n",
    "from matplotlib_venn import venn2, venn2_circles\n",
    "import seaborn as sns\n",
    "sns.set_palette(\"pastel\")\n",
    "sns.set_style(\"whitegrid\")"
   ]
  },
  {
   "cell_type": "code",
   "execution_count": 5,
   "id": "c3a02e08-accd-41a4-bf08-b84d23af74c8",
   "metadata": {},
   "outputs": [
    {
     "data": {
      "text/html": [
       "<div>\n",
       "<style scoped>\n",
       "    .dataframe tbody tr th:only-of-type {\n",
       "        vertical-align: middle;\n",
       "    }\n",
       "\n",
       "    .dataframe tbody tr th {\n",
       "        vertical-align: top;\n",
       "    }\n",
       "\n",
       "    .dataframe thead th {\n",
       "        text-align: right;\n",
       "    }\n",
       "</style>\n",
       "<table border=\"1\" class=\"dataframe\">\n",
       "  <thead>\n",
       "    <tr style=\"text-align: right;\">\n",
       "      <th></th>\n",
       "      <th>GPU_ONLY</th>\n",
       "      <th>CPU_ONLY</th>\n",
       "      <th>GPU_CPU_COMMON</th>\n",
       "    </tr>\n",
       "  </thead>\n",
       "  <tbody>\n",
       "    <tr>\n",
       "      <th>Sample 1</th>\n",
       "      <td>1645</td>\n",
       "      <td>614</td>\n",
       "      <td>126075</td>\n",
       "    </tr>\n",
       "    <tr>\n",
       "      <th>Sample 2</th>\n",
       "      <td>3964</td>\n",
       "      <td>1010</td>\n",
       "      <td>809914</td>\n",
       "    </tr>\n",
       "  </tbody>\n",
       "</table>\n",
       "</div>"
      ],
      "text/plain": [
       "          GPU_ONLY  CPU_ONLY  GPU_CPU_COMMON\n",
       "Sample 1      1645       614          126075\n",
       "Sample 2      3964      1010          809914"
      ]
     },
     "execution_count": 5,
     "metadata": {},
     "output_type": "execute_result"
    }
   ],
   "source": [
    "vc_counts = {\"Sample 1\":[1645, 614, 126075], \"Sample 2\":[3964, 1010, 809914]}\n",
    "df = pd.DataFrame(vc_counts).T.rename(columns={0: \"GPU_ONLY\", 1: \"CPU_ONLY\", 2: \"GPU_CPU_COMMON\" })\n",
    "df"
   ]
  },
  {
   "cell_type": "code",
   "execution_count": 6,
   "id": "355fe0bd-b10e-48cf-8c68-ee1a77dc96e4",
   "metadata": {},
   "outputs": [],
   "source": [
    "df[\"GPU_ONLY %\"], df[\"CPU_ONLY %\"], df[\"GPU_CPU_COMMON %\"] = zip(*df.apply(lambda x: (np.round(x[\"GPU_ONLY\"]/float(x.sum(axis=0))*100,3), \n",
    "                                                                                 np.round(x[\"CPU_ONLY\"]/float(x.sum(axis=0))*100,3), \n",
    "                                                                                 np.round(x[\"GPU_CPU_COMMON\"]/float(x.sum(axis=0))*100,3)),\n",
    "                                                                      axis=1))"
   ]
  },
  {
   "cell_type": "code",
   "execution_count": 7,
   "id": "a096a2e0-f3d4-4eb7-b5b3-ac7aa49283cf",
   "metadata": {},
   "outputs": [
    {
     "data": {
      "text/html": [
       "<div>\n",
       "<style scoped>\n",
       "    .dataframe tbody tr th:only-of-type {\n",
       "        vertical-align: middle;\n",
       "    }\n",
       "\n",
       "    .dataframe tbody tr th {\n",
       "        vertical-align: top;\n",
       "    }\n",
       "\n",
       "    .dataframe thead th {\n",
       "        text-align: right;\n",
       "    }\n",
       "</style>\n",
       "<table border=\"1\" class=\"dataframe\">\n",
       "  <thead>\n",
       "    <tr style=\"text-align: right;\">\n",
       "      <th></th>\n",
       "      <th>GPU_ONLY</th>\n",
       "      <th>CPU_ONLY</th>\n",
       "      <th>GPU_CPU_COMMON</th>\n",
       "      <th>GPU_ONLY %</th>\n",
       "      <th>CPU_ONLY %</th>\n",
       "      <th>GPU_CPU_COMMON %</th>\n",
       "    </tr>\n",
       "  </thead>\n",
       "  <tbody>\n",
       "    <tr>\n",
       "      <th>Sample 1</th>\n",
       "      <td>1645</td>\n",
       "      <td>614</td>\n",
       "      <td>126075</td>\n",
       "      <td>1.282</td>\n",
       "      <td>0.478</td>\n",
       "      <td>98.24</td>\n",
       "    </tr>\n",
       "    <tr>\n",
       "      <th>Sample 2</th>\n",
       "      <td>3964</td>\n",
       "      <td>1010</td>\n",
       "      <td>809914</td>\n",
       "      <td>0.486</td>\n",
       "      <td>0.124</td>\n",
       "      <td>99.39</td>\n",
       "    </tr>\n",
       "  </tbody>\n",
       "</table>\n",
       "</div>"
      ],
      "text/plain": [
       "          GPU_ONLY  CPU_ONLY  GPU_CPU_COMMON  GPU_ONLY %  CPU_ONLY %  \\\n",
       "Sample 1      1645       614          126075       1.282       0.478   \n",
       "Sample 2      3964      1010          809914       0.486       0.124   \n",
       "\n",
       "          GPU_CPU_COMMON %  \n",
       "Sample 1             98.24  \n",
       "Sample 2             99.39  "
      ]
     },
     "execution_count": 7,
     "metadata": {},
     "output_type": "execute_result"
    }
   ],
   "source": [
    "df"
   ]
  },
  {
   "cell_type": "code",
   "execution_count": 8,
   "id": "0a038903-31de-4b60-a711-412b73cf2c96",
   "metadata": {},
   "outputs": [
    {
     "name": "stdout",
     "output_type": "stream",
     "text": [
      "Sample 1 counts: [1645.0, 614.0, 126075.0]\n",
      "Sample 1 percentages: [1.282, 0.478, 98.24]\n",
      "Sample 2 counts: [3964.0, 1010.0, 809914.0]\n",
      "Sample 2 percentages: [0.486, 0.124, 99.39]\n"
     ]
    }
   ],
   "source": [
    "sample_1_counts = df.iloc[0][[\"GPU_ONLY\", \"CPU_ONLY\", \"GPU_CPU_COMMON\"]].to_list()\n",
    "sample_1_pct = df.iloc[0][[\"GPU_ONLY %\", \"CPU_ONLY %\", \"GPU_CPU_COMMON %\"]].to_list()\n",
    "\n",
    "print(f\"Sample 1 counts: {sample_1_counts}\")\n",
    "print(f\"Sample 1 percentages: {sample_1_pct}\")\n",
    "\n",
    "sample_2_counts = df.iloc[1][[\"GPU_ONLY\", \"CPU_ONLY\", \"GPU_CPU_COMMON\"]].to_list()\n",
    "sample_2_pct = df.iloc[1][[\"GPU_ONLY %\", \"CPU_ONLY %\", \"GPU_CPU_COMMON %\"]].to_list()\n",
    "\n",
    "print(f\"Sample 2 counts: {sample_2_counts}\")\n",
    "print(f\"Sample 2 percentages: {sample_2_pct}\")"
   ]
  },
  {
   "cell_type": "code",
   "execution_count": 9,
   "id": "e544f803-bbe1-4d87-b940-2b71047ad6a7",
   "metadata": {},
   "outputs": [
    {
     "data": {
      "text/plain": [
       "Text(0.5, 0.98, 'Number of variants')"
      ]
     },
     "execution_count": 9,
     "metadata": {},
     "output_type": "execute_result"
    },
    {
     "data": {
      "image/png": "[encoded data removed]",
      "text/plain": [
       "<Figure size 640x480 with 2 Axes>"
      ]
     },
     "metadata": {},
     "output_type": "display_data"
    }
   ],
   "source": [
    "colors_list = sns.color_palette(\"pastel\").as_hex()\n",
    "figure, (ax1, ax2) = plt.subplots(1, 2)\n",
    "venn2(subsets = sample_1_counts, set_labels = ('GPU', 'CPU'), set_colors=(colors_list[2], colors_list[3]), alpha=1,ax=ax1)\n",
    "venn2(subsets = sample_2_counts, set_labels = ('GPU', 'CPU'), set_colors=(colors_list[2], colors_list[3]), alpha=1, ax=ax2)\n",
    "\n",
    "ax1.set_title(\"Sample 1\")\n",
    "ax2.set_title(\"Sample 2\")\n",
    "plt.suptitle(\"Number of variants\")"
   ]
  },
  {
   "cell_type": "code",
   "execution_count": 10,
   "id": "bf5d8a11-9165-49b1-9a1d-f61e90f9ba19",
   "metadata": {},
   "outputs": [
    {
     "data": {
      "text/plain": [
       "Text(0.5, 0.98, 'Percentage of variants')"
      ]
     },
     "execution_count": 10,
     "metadata": {},
     "output_type": "execute_result"
    },
    {
     "data": {
      "image/png": "[encoded data removed]",
      "text/plain": [
       "<Figure size 640x480 with 2 Axes>"
      ]
     },
     "metadata": {},
     "output_type": "display_data"
    }
   ],
   "source": [
    "figure, (ax1, ax2) = plt.subplots(1, 2)\n",
    "venn2(subsets = sample_1_pct, set_labels = ('GPU', 'CPU'), set_colors=(colors_list[2], colors_list[3]), ax=ax1)\n",
    "venn2(subsets = sample_2_pct, set_labels = ('GPU', 'CPU'), set_colors=(colors_list[2], colors_list[3]), ax=ax2)\n",
    "\n",
    "ax1.set_title(\"Sample 1\")\n",
    "ax2.set_title(\"Sample 2\")\n",
    "plt.suptitle(\"Percentage of variants\")"
   ]
  },
  {
   "cell_type": "markdown",
   "id": "30cae5ea-43c0-422b-b31c-cac831239456",
   "metadata": {},
   "source": [
    "#### Summary: Based on the Sample 1 and Sample 2 results,\n",
    "* A large majority of variants are common to both pipelines, i.e., a large majority of variants are identified in both pipelines\n",
    "    * ~98%-99% variants are identified by both GPU and CPU pipelines\n",
    "* The number of variants identified only in the GPU pipeline is larger than the variants identified only in the CPU pipeline\n",
    "    * The difference between the number of private variants was `~2.6x times (1645/614)` for `Sample 1` and `~3.9x times (3964/1010)` for `Sample 2`"
   ]
  },
  {
   "cell_type": "markdown",
   "id": "587f1723-929a-43b2-96cc-0874a64ef565",
   "metadata": {},
   "source": [
    "## Analysis of processing time of GPU and CPU pipeline"
   ]
  },
  {
   "cell_type": "code",
   "execution_count": 11,
   "id": "5561bad1-ab40-4b0b-aef8-7f141e212550",
   "metadata": {},
   "outputs": [
    {
     "data": {
      "text/html": [
       "<div>\n",
       "<style scoped>\n",
       "    .dataframe tbody tr th:only-of-type {\n",
       "        vertical-align: middle;\n",
       "    }\n",
       "\n",
       "    .dataframe tbody tr th {\n",
       "        vertical-align: top;\n",
       "    }\n",
       "\n",
       "    .dataframe thead th {\n",
       "        text-align: right;\n",
       "    }\n",
       "</style>\n",
       "<table border=\"1\" class=\"dataframe\">\n",
       "  <thead>\n",
       "    <tr style=\"text-align: right;\">\n",
       "      <th></th>\n",
       "      <th>Platform</th>\n",
       "      <th>Sample</th>\n",
       "      <th>BWA-mem mapping</th>\n",
       "      <th>Samtools sort</th>\n",
       "      <th>Duplicate marking and BQSR calculation</th>\n",
       "      <th>ApplyBQSR and HaplotypeCalling</th>\n",
       "    </tr>\n",
       "  </thead>\n",
       "  <tbody>\n",
       "    <tr>\n",
       "      <th>0</th>\n",
       "      <td>CPU</td>\n",
       "      <td>Sample1</td>\n",
       "      <td>7m 10s</td>\n",
       "      <td>20m 2s</td>\n",
       "      <td>28m 44s</td>\n",
       "      <td>116m 25s</td>\n",
       "    </tr>\n",
       "    <tr>\n",
       "      <th>1</th>\n",
       "      <td>GPU</td>\n",
       "      <td>Sample1</td>\n",
       "      <td>2m 20s</td>\n",
       "      <td>1m 0s</td>\n",
       "      <td>0m 40s</td>\n",
       "      <td>1m 44s</td>\n",
       "    </tr>\n",
       "    <tr>\n",
       "      <th>2</th>\n",
       "      <td>CPU</td>\n",
       "      <td>Sample2</td>\n",
       "      <td>19m 46s</td>\n",
       "      <td>35m 29s</td>\n",
       "      <td>76m 28s</td>\n",
       "      <td>183m 33s</td>\n",
       "    </tr>\n",
       "    <tr>\n",
       "      <th>3</th>\n",
       "      <td>GPU</td>\n",
       "      <td>Sample2</td>\n",
       "      <td>6m 2s</td>\n",
       "      <td>2m 0s</td>\n",
       "      <td>0m 50s</td>\n",
       "      <td>2m 54s</td>\n",
       "    </tr>\n",
       "  </tbody>\n",
       "</table>\n",
       "</div>"
      ],
      "text/plain": [
       "  Platform   Sample BWA-mem mapping Samtools sort  \\\n",
       "0      CPU  Sample1          7m 10s        20m 2s   \n",
       "1      GPU  Sample1          2m 20s         1m 0s   \n",
       "2      CPU  Sample2         19m 46s       35m 29s   \n",
       "3      GPU  Sample2           6m 2s         2m 0s   \n",
       "\n",
       "  Duplicate marking and BQSR calculation ApplyBQSR and HaplotypeCalling  \n",
       "0                                28m 44s                       116m 25s  \n",
       "1                                 0m 40s                         1m 44s  \n",
       "2                                76m 28s                       183m 33s  \n",
       "3                                 0m 50s                         2m 54s  "
      ]
     },
     "execution_count": 11,
     "metadata": {},
     "output_type": "execute_result"
    }
   ],
   "source": [
    "df_times = pd.read_table(\"metadata/processing_time.tsv\")\n",
    "df_times.head()"
   ]
  },
  {
   "cell_type": "markdown",
   "id": "b55d206b-882a-4b6a-b286-6030118b1c2d",
   "metadata": {},
   "source": [
    "*`BWA-mem mapping`, `Samtools sort`, `Duplicate marking and BQSR calculation` and `ApplyBQSR and HaplotypeCalling`: Different stages/processes in the pipeline*"
   ]
  },
  {
   "cell_type": "code",
   "execution_count": 12,
   "id": "e102de25-9d0d-4300-b048-1df62fc69142",
   "metadata": {},
   "outputs": [
    {
     "name": "stdout",
     "output_type": "stream",
     "text": [
      "<class 'pandas.core.frame.DataFrame'>\n",
      "RangeIndex: 4 entries, 0 to 3\n",
      "Data columns (total 6 columns):\n",
      " #   Column                                  Non-Null Count  Dtype \n",
      "---  ------                                  --------------  ----- \n",
      " 0   Platform                                4 non-null      object\n",
      " 1   Sample                                  4 non-null      object\n",
      " 2   BWA-mem mapping                         4 non-null      object\n",
      " 3   Samtools sort                           4 non-null      object\n",
      " 4   Duplicate marking and BQSR calculation  4 non-null      object\n",
      " 5   ApplyBQSR and HaplotypeCalling          4 non-null      object\n",
      "dtypes: object(6)\n",
      "memory usage: 324.0+ bytes\n"
     ]
    }
   ],
   "source": [
    "df_times.info()"
   ]
  },
  {
   "cell_type": "code",
   "execution_count": 13,
   "id": "e9c45fe4-5838-40d1-b675-f67cd76130f1",
   "metadata": {},
   "outputs": [],
   "source": [
    "def convert_to_minutes(time_str_series):\n",
    "    \"\"\"Convert time durations to seconds\"\"\"\n",
    "    \n",
    "    total_minutes = []\n",
    "    for time_str in time_str_series.to_list():\n",
    "        try:\n",
    "            # Split the string by 'm' and 's' to extract minutes and seconds\n",
    "            minutes, seconds = time_str.split('m')[0].strip(), time_str.split('m')[1].split('s')[0].strip()\n",
    "            # Convert to integers and calculate total minutes\n",
    "            total_minutes.append((int(minutes)*60) + int(seconds))\n",
    "        except (ValueError, IndexError):\n",
    "            print(f\"Invalid time string: {time_str}. Skipping.\")\n",
    "    return total_minutes"
   ]
  },
  {
   "cell_type": "code",
   "execution_count": 14,
   "id": "103efcba-8e69-479e-bb07-21097ac1736f",
   "metadata": {},
   "outputs": [],
   "source": [
    "# DF with time duration in seconds\n",
    "df_seconds = df_times[[\"Platform\", \"Sample\"]].copy()\n",
    "df_seconds[\"BWA-mem mapping\"], \\\n",
    "df_seconds[\"Samtools sort\"], \\\n",
    "df_seconds[\"Duplicate marking and BQSR calculation\"], \\\n",
    "df_seconds[\"ApplyBQSR and HaplotypeCalling\"] = zip(*df_times[[\"BWA-mem mapping\",  \n",
    "                                                           \"Samtools sort\",  \n",
    "                                                           \"Duplicate marking and BQSR calculation\", \n",
    "                                                           \"ApplyBQSR and HaplotypeCalling\"]].apply(lambda x: convert_to_minutes(x), axis=1))"
   ]
  },
  {
   "cell_type": "code",
   "execution_count": 15,
   "id": "e8274cdd-a148-43b2-af5d-909271598c0e",
   "metadata": {},
   "outputs": [
    {
     "data": {
      "text/html": [
       "<div>\n",
       "<style scoped>\n",
       "    .dataframe tbody tr th:only-of-type {\n",
       "        vertical-align: middle;\n",
       "    }\n",
       "\n",
       "    .dataframe tbody tr th {\n",
       "        vertical-align: top;\n",
       "    }\n",
       "\n",
       "    .dataframe thead th {\n",
       "        text-align: right;\n",
       "    }\n",
       "</style>\n",
       "<table border=\"1\" class=\"dataframe\">\n",
       "  <thead>\n",
       "    <tr style=\"text-align: right;\">\n",
       "      <th></th>\n",
       "      <th>Platform</th>\n",
       "      <th>Sample</th>\n",
       "      <th>BWA-mem mapping</th>\n",
       "      <th>Samtools sort</th>\n",
       "      <th>Duplicate marking and BQSR calculation</th>\n",
       "      <th>ApplyBQSR and HaplotypeCalling</th>\n",
       "    </tr>\n",
       "  </thead>\n",
       "  <tbody>\n",
       "    <tr>\n",
       "      <th>0</th>\n",
       "      <td>CPU</td>\n",
       "      <td>Sample1</td>\n",
       "      <td>430</td>\n",
       "      <td>1202</td>\n",
       "      <td>1724</td>\n",
       "      <td>6985</td>\n",
       "    </tr>\n",
       "    <tr>\n",
       "      <th>1</th>\n",
       "      <td>GPU</td>\n",
       "      <td>Sample1</td>\n",
       "      <td>140</td>\n",
       "      <td>60</td>\n",
       "      <td>40</td>\n",
       "      <td>104</td>\n",
       "    </tr>\n",
       "    <tr>\n",
       "      <th>2</th>\n",
       "      <td>CPU</td>\n",
       "      <td>Sample2</td>\n",
       "      <td>1186</td>\n",
       "      <td>2129</td>\n",
       "      <td>4588</td>\n",
       "      <td>11013</td>\n",
       "    </tr>\n",
       "    <tr>\n",
       "      <th>3</th>\n",
       "      <td>GPU</td>\n",
       "      <td>Sample2</td>\n",
       "      <td>362</td>\n",
       "      <td>120</td>\n",
       "      <td>50</td>\n",
       "      <td>174</td>\n",
       "    </tr>\n",
       "  </tbody>\n",
       "</table>\n",
       "</div>"
      ],
      "text/plain": [
       "  Platform   Sample  BWA-mem mapping  Samtools sort  \\\n",
       "0      CPU  Sample1              430           1202   \n",
       "1      GPU  Sample1              140             60   \n",
       "2      CPU  Sample2             1186           2129   \n",
       "3      GPU  Sample2              362            120   \n",
       "\n",
       "   Duplicate marking and BQSR calculation  ApplyBQSR and HaplotypeCalling  \n",
       "0                                    1724                            6985  \n",
       "1                                      40                             104  \n",
       "2                                    4588                           11013  \n",
       "3                                      50                             174  "
      ]
     },
     "execution_count": 15,
     "metadata": {},
     "output_type": "execute_result"
    }
   ],
   "source": [
    "df_seconds"
   ]
  },
  {
   "cell_type": "code",
   "execution_count": 16,
   "id": "40321abe-83df-4212-9c9c-847065bae5a3",
   "metadata": {},
   "outputs": [
    {
     "data": {
      "text/html": [
       "<div>\n",
       "<style scoped>\n",
       "    .dataframe tbody tr th:only-of-type {\n",
       "        vertical-align: middle;\n",
       "    }\n",
       "\n",
       "    .dataframe tbody tr th {\n",
       "        vertical-align: top;\n",
       "    }\n",
       "\n",
       "    .dataframe thead th {\n",
       "        text-align: right;\n",
       "    }\n",
       "</style>\n",
       "<table border=\"1\" class=\"dataframe\">\n",
       "  <thead>\n",
       "    <tr style=\"text-align: right;\">\n",
       "      <th></th>\n",
       "      <th>Sample</th>\n",
       "      <th>Platform</th>\n",
       "      <th>Process</th>\n",
       "      <th>Time (in seconds)</th>\n",
       "    </tr>\n",
       "  </thead>\n",
       "  <tbody>\n",
       "    <tr>\n",
       "      <th>0</th>\n",
       "      <td>Sample1</td>\n",
       "      <td>CPU</td>\n",
       "      <td>BWA-mem mapping</td>\n",
       "      <td>430</td>\n",
       "    </tr>\n",
       "    <tr>\n",
       "      <th>1</th>\n",
       "      <td>Sample1</td>\n",
       "      <td>GPU</td>\n",
       "      <td>BWA-mem mapping</td>\n",
       "      <td>140</td>\n",
       "    </tr>\n",
       "    <tr>\n",
       "      <th>2</th>\n",
       "      <td>Sample2</td>\n",
       "      <td>CPU</td>\n",
       "      <td>BWA-mem mapping</td>\n",
       "      <td>1186</td>\n",
       "    </tr>\n",
       "    <tr>\n",
       "      <th>3</th>\n",
       "      <td>Sample2</td>\n",
       "      <td>GPU</td>\n",
       "      <td>BWA-mem mapping</td>\n",
       "      <td>362</td>\n",
       "    </tr>\n",
       "    <tr>\n",
       "      <th>4</th>\n",
       "      <td>Sample1</td>\n",
       "      <td>CPU</td>\n",
       "      <td>Samtools sort</td>\n",
       "      <td>1202</td>\n",
       "    </tr>\n",
       "    <tr>\n",
       "      <th>5</th>\n",
       "      <td>Sample1</td>\n",
       "      <td>GPU</td>\n",
       "      <td>Samtools sort</td>\n",
       "      <td>60</td>\n",
       "    </tr>\n",
       "    <tr>\n",
       "      <th>6</th>\n",
       "      <td>Sample2</td>\n",
       "      <td>CPU</td>\n",
       "      <td>Samtools sort</td>\n",
       "      <td>2129</td>\n",
       "    </tr>\n",
       "    <tr>\n",
       "      <th>7</th>\n",
       "      <td>Sample2</td>\n",
       "      <td>GPU</td>\n",
       "      <td>Samtools sort</td>\n",
       "      <td>120</td>\n",
       "    </tr>\n",
       "    <tr>\n",
       "      <th>8</th>\n",
       "      <td>Sample1</td>\n",
       "      <td>CPU</td>\n",
       "      <td>Duplicate marking and BQSR calculation</td>\n",
       "      <td>1724</td>\n",
       "    </tr>\n",
       "    <tr>\n",
       "      <th>9</th>\n",
       "      <td>Sample1</td>\n",
       "      <td>GPU</td>\n",
       "      <td>Duplicate marking and BQSR calculation</td>\n",
       "      <td>40</td>\n",
       "    </tr>\n",
       "    <tr>\n",
       "      <th>10</th>\n",
       "      <td>Sample2</td>\n",
       "      <td>CPU</td>\n",
       "      <td>Duplicate marking and BQSR calculation</td>\n",
       "      <td>4588</td>\n",
       "    </tr>\n",
       "    <tr>\n",
       "      <th>11</th>\n",
       "      <td>Sample2</td>\n",
       "      <td>GPU</td>\n",
       "      <td>Duplicate marking and BQSR calculation</td>\n",
       "      <td>50</td>\n",
       "    </tr>\n",
       "    <tr>\n",
       "      <th>12</th>\n",
       "      <td>Sample1</td>\n",
       "      <td>CPU</td>\n",
       "      <td>ApplyBQSR and HaplotypeCalling</td>\n",
       "      <td>6985</td>\n",
       "    </tr>\n",
       "    <tr>\n",
       "      <th>13</th>\n",
       "      <td>Sample1</td>\n",
       "      <td>GPU</td>\n",
       "      <td>ApplyBQSR and HaplotypeCalling</td>\n",
       "      <td>104</td>\n",
       "    </tr>\n",
       "    <tr>\n",
       "      <th>14</th>\n",
       "      <td>Sample2</td>\n",
       "      <td>CPU</td>\n",
       "      <td>ApplyBQSR and HaplotypeCalling</td>\n",
       "      <td>11013</td>\n",
       "    </tr>\n",
       "    <tr>\n",
       "      <th>15</th>\n",
       "      <td>Sample2</td>\n",
       "      <td>GPU</td>\n",
       "      <td>ApplyBQSR and HaplotypeCalling</td>\n",
       "      <td>174</td>\n",
       "    </tr>\n",
       "  </tbody>\n",
       "</table>\n",
       "</div>"
      ],
      "text/plain": [
       "     Sample Platform                                 Process  \\\n",
       "0   Sample1      CPU                         BWA-mem mapping   \n",
       "1   Sample1      GPU                         BWA-mem mapping   \n",
       "2   Sample2      CPU                         BWA-mem mapping   \n",
       "3   Sample2      GPU                         BWA-mem mapping   \n",
       "4   Sample1      CPU                           Samtools sort   \n",
       "5   Sample1      GPU                           Samtools sort   \n",
       "6   Sample2      CPU                           Samtools sort   \n",
       "7   Sample2      GPU                           Samtools sort   \n",
       "8   Sample1      CPU  Duplicate marking and BQSR calculation   \n",
       "9   Sample1      GPU  Duplicate marking and BQSR calculation   \n",
       "10  Sample2      CPU  Duplicate marking and BQSR calculation   \n",
       "11  Sample2      GPU  Duplicate marking and BQSR calculation   \n",
       "12  Sample1      CPU          ApplyBQSR and HaplotypeCalling   \n",
       "13  Sample1      GPU          ApplyBQSR and HaplotypeCalling   \n",
       "14  Sample2      CPU          ApplyBQSR and HaplotypeCalling   \n",
       "15  Sample2      GPU          ApplyBQSR and HaplotypeCalling   \n",
       "\n",
       "    Time (in seconds)  \n",
       "0                 430  \n",
       "1                 140  \n",
       "2                1186  \n",
       "3                 362  \n",
       "4                1202  \n",
       "5                  60  \n",
       "6                2129  \n",
       "7                 120  \n",
       "8                1724  \n",
       "9                  40  \n",
       "10               4588  \n",
       "11                 50  \n",
       "12               6985  \n",
       "13                104  \n",
       "14              11013  \n",
       "15                174  "
      ]
     },
     "execution_count": 16,
     "metadata": {},
     "output_type": "execute_result"
    }
   ],
   "source": [
    "# Pivot the table\n",
    "df_mins_transformed = df_seconds.melt(id_vars=['Sample', 'Platform'], var_name='Process', value_name='Time (in seconds)')\n",
    "df_mins_transformed"
   ]
  },
  {
   "cell_type": "code",
   "execution_count": 17,
   "id": "38d1d4b9-d21c-4170-98e9-2485afe94af8",
   "metadata": {},
   "outputs": [
    {
     "data": {
      "text/plain": [
       "<seaborn.axisgrid.FacetGrid at 0x17533cb50>"
      ]
     },
     "execution_count": 17,
     "metadata": {},
     "output_type": "execute_result"
    },
    {
     "data": {
      "image/png": "[encoded data removed]",
      "text/plain": [
       "<Figure size 2480.12x600 with 2 Axes>"
      ]
     },
     "metadata": {},
     "output_type": "display_data"
    }
   ],
   "source": [
    "sns.catplot(\n",
    "    data=df_mins_transformed, kind=\"bar\",\n",
    "    x=\"Time (in seconds)\", y=\"Process\", \n",
    "    col=\"Sample\", hue=\"Platform\", \n",
    "    hue_order=[\"GPU\",\"CPU\"], palette=[colors_list[2], colors_list[3]],\n",
    "    height=6, aspect=2,\n",
    ")"
   ]
  },
  {
   "cell_type": "markdown",
   "id": "491b4f6b-9c98-40c7-afea-2b4c12731741",
   "metadata": {},
   "source": [
    "#### Summary: Processing time\n",
    "* The processing time of the GPU pipeline is considerably smaller than that of the CPU pipeline\n"
   ]
  },
  {
   "cell_type": "code",
   "execution_count": null,
   "id": "ad9df0e6-67a2-4d00-af46-a085b3d65629",
   "metadata": {},
   "outputs": [],
   "source": []
  }
 ],
 "metadata": {
  "kernelspec": {
   "display_name": "Python 3 (ipykernel)",
   "language": "python",
   "name": "python3"
  },
  "language_info": {
   "codemirror_mode": {
    "name": "ipython",
    "version": 3
   },
   "file_extension": ".py",
   "mimetype": "text/x-python",
   "name": "python",
   "nbconvert_exporter": "python",
   "pygments_lexer": "ipython3",
   "version": "3.11.4"
  }
 },
 "nbformat": 4,
 "nbformat_minor": 5
}
